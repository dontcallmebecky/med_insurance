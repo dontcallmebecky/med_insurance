{
 "cells": [
  {
   "cell_type": "markdown",
   "metadata": {},
   "source": [
    "# U.S. Medical Insurance Costs"
   ]
  },
  {
   "cell_type": "code",
   "execution_count": 109,
   "metadata": {},
   "outputs": [],
   "source": [
    "import csv"
   ]
  },
  {
   "cell_type": "code",
   "execution_count": 110,
   "metadata": {},
   "outputs": [],
   "source": [
    "with open (\"insurance.csv\", newline = '') as insurance_csv:\n",
    "    insurance_reader = csv.DictReader(insurance_csv, delimiter = ',')\n",
    "    cust_table = []\n",
    "    for row in insurance_reader:\n",
    "        cust_table.append(row)\n",
    "    "
   ]
  },
  {
   "cell_type": "code",
   "execution_count": 129,
   "metadata": {},
   "outputs": [],
   "source": [
    "regions = [customer[\"region\"] for customer in cust_table]\n",
    "#print(regions)"
   ]
  },
  {
   "cell_type": "code",
   "execution_count": 112,
   "metadata": {},
   "outputs": [],
   "source": [
    "#finds the average age of all users"
   ]
  },
  {
   "cell_type": "code",
   "execution_count": 124,
   "metadata": {},
   "outputs": [],
   "source": [
    "def find_avg_age(table):\n",
    "    sum_age = 0\n",
    "    for customer in table:\n",
    "        sum_age += int(customer[\"age\"])\n",
    "    return f\"The average age of a customer is {sum_age / len(table):.1f}\"\n",
    "    "
   ]
  },
  {
   "cell_type": "code",
   "execution_count": 125,
   "metadata": {},
   "outputs": [
    {
     "data": {
      "text/plain": [
       "'The average age of a customer is 39.2'"
      ]
     },
     "execution_count": 125,
     "metadata": {},
     "output_type": "execute_result"
    }
   ],
   "source": [
    "find_avg_age(cust_table)"
   ]
  },
  {
   "cell_type": "code",
   "execution_count": 126,
   "metadata": {},
   "outputs": [],
   "source": [
    "#find how many individuals are from each region"
   ]
  },
  {
   "cell_type": "code",
   "execution_count": 127,
   "metadata": {},
   "outputs": [],
   "source": [
    "def find_regional_density(regions):\n",
    "    density_dict = {}\n",
    "    for region in regions:\n",
    "        if region not in density_dict.keys():\n",
    "            density_dict.update({region : 1})\n",
    "        else:\n",
    "            density_dict[region] += 1\n",
    "    biggest = 0\n",
    "    for region, population in density_dict.items():\n",
    "        if population > biggest:\n",
    "            biggest = population\n",
    "            biggest_region = region\n",
    "    return \"The majority of customers are from the {} area\".format(biggest_region)\n",
    "        "
   ]
  },
  {
   "cell_type": "code",
   "execution_count": 128,
   "metadata": {},
   "outputs": [
    {
     "name": "stdout",
     "output_type": "stream",
     "text": [
      "The majority of customers are from the southeast area\n"
     ]
    }
   ],
   "source": [
    "print(find_regional_density(regions))"
   ]
  },
  {
   "cell_type": "code",
   "execution_count": null,
   "metadata": {},
   "outputs": [],
   "source": []
  }
 ],
 "metadata": {
  "kernelspec": {
   "display_name": "Python 3 (ipykernel)",
   "language": "python",
   "name": "python3"
  },
  "language_info": {
   "codemirror_mode": {
    "name": "ipython",
    "version": 3
   },
   "file_extension": ".py",
   "mimetype": "text/x-python",
   "name": "python",
   "nbconvert_exporter": "python",
   "pygments_lexer": "ipython3",
   "version": "3.9.7"
  }
 },
 "nbformat": 4,
 "nbformat_minor": 4
}

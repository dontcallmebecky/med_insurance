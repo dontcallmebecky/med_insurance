{
 "cells": [
  {
   "cell_type": "markdown",
   "metadata": {},
   "source": [
    "# U.S. Medical Insurance Costs"
   ]
  },
  {
   "cell_type": "code",
   "execution_count": 15,
   "metadata": {},
   "outputs": [],
   "source": [
    "import csv"
   ]
  },
  {
   "cell_type": "code",
   "execution_count": 55,
   "metadata": {},
   "outputs": [],
   "source": [
    "with open (\"insurance.csv\", newline = '') as insurance_csv:\n",
    "    insurance_reader = csv.DictReader(insurance_csv, delimiter = ',')\n",
    "    for row in insurance_reader:\n",
    "        ages = [int(row[\"age\"]) for row in insurance_reader]\n",
    "    for row in insurance_reader:\n",
    "        locations = [row[\"region\"] for row in insurance_reader]\n",
    "    "
   ]
  },
  {
   "cell_type": "code",
   "execution_count": null,
   "metadata": {},
   "outputs": [],
   "source": [
    "#finds the average age of all users"
   ]
  },
  {
   "cell_type": "code",
   "execution_count": 46,
   "metadata": {},
   "outputs": [],
   "source": [
    "def find_avg_age(list_of_ages):\n",
    "    sum_age = 0\n",
    "    for age in ages:\n",
    "        sum_age += age\n",
    "    avg_age = sum_age / len(list_of_ages)\n",
    "    return f\"{sum_age / len(list_of_ages):.2f}\""
   ]
  },
  {
   "cell_type": "code",
   "execution_count": 49,
   "metadata": {
    "scrolled": true
   },
   "outputs": [
    {
     "name": "stdout",
     "output_type": "stream",
     "text": [
      "39.22\n"
     ]
    }
   ],
   "source": [
    "print(find_avg_age(ages))"
   ]
  },
  {
   "cell_type": "code",
   "execution_count": null,
   "metadata": {},
   "outputs": [],
   "source": [
    "#find how many individuals are from each region"
   ]
  },
  {
   "cell_type": "code",
   "execution_count": 50,
   "metadata": {},
   "outputs": [],
   "source": [
    "def find_densest_region(regions):\n",
    "    new_dict = {\"southwest\": 0, \"northwest\": 0, \"southeast\": 0, \"northeast\":0}\n",
    "    for region in regions:\n",
    "        if region == \"southwest\":\n",
    "            new_dict[\"southwest\"] = new_dict[\"southwest\"] + 1\n",
    "        elif region == \"northwest\":\n",
    "            new_dict[\"northwest\"] = new_dict[\"northwest\"] + 1\n",
    "        elif region == \"southeast\":\n",
    "            new_dict[\"southeast\"] = new_dict[\"southeast\"] + 1\n",
    "        elif region == \"northeast\":\n",
    "            new_dict[\"northeast\"] = new_dict[\"northeast\"] + 1\n",
    "    return new_dict"
   ]
  },
  {
   "cell_type": "code",
   "execution_count": 58,
   "metadata": {},
   "outputs": [
    {
     "name": "stdout",
     "output_type": "stream",
     "text": [
      "{'southwest': 324, 'northwest': 325, 'southeast': 364, 'northeast': 324}\n"
     ]
    }
   ],
   "source": [
    "print(find_densest_region(locations))"
   ]
  },
  {
   "cell_type": "code",
   "execution_count": null,
   "metadata": {},
   "outputs": [],
   "source": []
  }
 ],
 "metadata": {
  "kernelspec": {
   "display_name": "Python 3 (ipykernel)",
   "language": "python",
   "name": "python3"
  },
  "language_info": {
   "codemirror_mode": {
    "name": "ipython",
    "version": 3
   },
   "file_extension": ".py",
   "mimetype": "text/x-python",
   "name": "python",
   "nbconvert_exporter": "python",
   "pygments_lexer": "ipython3",
   "version": "3.9.7"
  }
 },
 "nbformat": 4,
 "nbformat_minor": 4
}
